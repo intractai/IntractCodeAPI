{
 "cells": [
  {
   "cell_type": "code",
   "execution_count": 1,
   "metadata": {},
   "outputs": [],
   "source": [
    "from collections import Counter, defaultdict\n",
    "from functools import partial\n",
    "import math\n",
    "\n",
    "from datasets import Dataset, load_from_disk\n",
    "from tqdm import tqdm"
   ]
  },
  {
   "cell_type": "code",
   "execution_count": 2,
   "metadata": {},
   "outputs": [],
   "source": [
    "dataset_dir = 'data/python/train'\n",
    "dataset = load_from_disk(dataset_dir, keep_in_memory=False)"
   ]
  },
  {
   "cell_type": "code",
   "execution_count": 3,
   "metadata": {},
   "outputs": [],
   "source": [
    "def gen_project_data(dataset):\n",
    "  \"\"\"\n",
    "  Generator that yields a dictionary for each project in the dataset.\n",
    "  Each dictionary contains the project name, a list of file names, a\n",
    "  list of file contents, and a unique ID.\n",
    "  \"\"\"\n",
    "\n",
    "  # First, make a map of projects to their indices in the dataset\n",
    "  print('Building project to indices map...')\n",
    "  \n",
    "  project_names = list(dataset['max_stars_repo_name'])\n",
    "  project_sizes = Counter(project_names)\n",
    "\n",
    "  # Now, for each project, get the indices of the examples\n",
    "  # that are in that project\n",
    "\n",
    "  batch_size = 10000\n",
    "\n",
    "  print('Building project data...')\n",
    "\n",
    "  partial_project_dict = {}\n",
    "  project_idx = 0\n",
    "\n",
    "  # Break the dataset into batches\n",
    "  n_batches = int(math.ceil(len(dataset) / batch_size))\n",
    "  for i in tqdm(range(n_batches), total=n_batches):\n",
    "    batch = dataset[i * batch_size : (i + 1) * batch_size]\n",
    "\n",
    "    # Loop through each sample in the batch\n",
    "    for sample_idx in range(len(batch['max_stars_repo_name'])):\n",
    "\n",
    "      # Create a new entry for the sample's project if it doesn't exist\n",
    "      project_name = batch['max_stars_repo_name'][sample_idx]\n",
    "      if project_name not in partial_project_dict:\n",
    "        partial_project_dict[project_name] = {\n",
    "          'project_name': project_name,\n",
    "          'file_names': [],\n",
    "          'file_contents': [],\n",
    "          'id': project_idx\n",
    "        }\n",
    "        project_idx += 1\n",
    "\n",
    "      # Update the project with info from the new sample\n",
    "      partial_project_dict[project_name]['file_names'].append(\n",
    "        batch['max_stars_repo_path'][sample_idx])\n",
    "      partial_project_dict[project_name]['file_contents'].append(\n",
    "        batch['content'][sample_idx])\n",
    "      \n",
    "      # If all the project files have been added, yield the project\n",
    "      if len(partial_project_dict[project_name]['file_names']) == project_sizes[project_name]:\n",
    "        yield partial_project_dict[project_name]\n",
    "        del partial_project_dict[project_name]\n",
    "\n",
    "  # Sanity check that all projects have been yielded\n",
    "  assert len(partial_project_dict) == 0, 'Not all projects have been yielded!'"
   ]
  },
  {
   "cell_type": "code",
   "execution_count": 72,
   "metadata": {},
   "outputs": [
    {
     "data": {
      "text/plain": [
       "12866649"
      ]
     },
     "execution_count": 72,
     "metadata": {},
     "output_type": "execute_result"
    }
   ],
   "source": [
    "len(dataset)"
   ]
  },
  {
   "cell_type": "code",
   "execution_count": 57,
   "metadata": {},
   "outputs": [
    {
     "name": "stdout",
     "output_type": "stream",
     "text": [
      "47.8 ms ± 562 µs per loop (mean ± std. dev. of 7 runs, 10 loops each)\n"
     ]
    }
   ],
   "source": [
    "%timeit dataset.select(range(10000))[:]"
   ]
  },
  {
   "cell_type": "code",
   "execution_count": 60,
   "metadata": {},
   "outputs": [
    {
     "name": "stdout",
     "output_type": "stream",
     "text": [
      "45.4 ms ± 813 µs per loop (mean ± std. dev. of 7 runs, 10 loops each)\n"
     ]
    }
   ],
   "source": [
    "%timeit dataset[:10000]"
   ]
  },
  {
   "cell_type": "code",
   "execution_count": 53,
   "metadata": {},
   "outputs": [
    {
     "name": "stdout",
     "output_type": "stream",
     "text": [
      "94.6 ms ± 4.06 ms per loop (mean ± std. dev. of 7 runs, 1 loop each)\n"
     ]
    }
   ],
   "source": [
    "%timeit dataset.select(range(0, 1000000, 100))['content'][:]"
   ]
  },
  {
   "cell_type": "code",
   "execution_count": 4,
   "metadata": {},
   "outputs": [
    {
     "name": "stdout",
     "output_type": "stream",
     "text": [
      "Downloading and preparing dataset generator/default to /home/edan/.cache/huggingface/datasets/generator/default-2e606bd0fdd0be85/0.0.0...\n"
     ]
    },
    {
     "data": {
      "application/vnd.jupyter.widget-view+json": {
       "model_id": "06e95552cd7e4a8a8aed85a3033f73ea",
       "version_major": 2,
       "version_minor": 0
      },
      "text/plain": [
       "Generating train split: 0 examples [00:00, ? examples/s]"
      ]
     },
     "metadata": {},
     "output_type": "display_data"
    },
    {
     "name": "stdout",
     "output_type": "stream",
     "text": [
      "Building project to indices map...\n",
      "Building project data...\n"
     ]
    },
    {
     "name": "stderr",
     "output_type": "stream",
     "text": [
      "100%|██████████| 1287/1287 [1:22:55<00:00,  3.87s/it]\n"
     ]
    },
    {
     "name": "stdout",
     "output_type": "stream",
     "text": [
      "Dataset generator downloaded and prepared to /home/edan/.cache/huggingface/datasets/generator/default-2e606bd0fdd0be85/0.0.0. Subsequent calls will reuse this data.\n"
     ]
    }
   ],
   "source": [
    "project_dataset = Dataset.from_generator(\n",
    "  partial(gen_project_data, dataset),\n",
    ")"
   ]
  },
  {
   "cell_type": "code",
   "execution_count": 5,
   "metadata": {},
   "outputs": [
    {
     "data": {
      "application/vnd.jupyter.widget-view+json": {
       "model_id": "3d9357baa33a41f79566416f3760afa0",
       "version_major": 2,
       "version_minor": 0
      },
      "text/plain": [
       "Saving the dataset (0/123 shards):   0%|          | 0/1678572 [00:00<?, ? examples/s]"
      ]
     },
     "metadata": {},
     "output_type": "display_data"
    }
   ],
   "source": [
    "# Save to disk\n",
    "project_dataset.save_to_disk('data/python/projects')"
   ]
  },
  {
   "cell_type": "code",
   "execution_count": 4,
   "metadata": {},
   "outputs": [
    {
     "name": "stdout",
     "output_type": "stream",
     "text": [
      "ckamtsikis/cmssw: 7440\n",
      "tefra/xsdata-w3c-tests: 4986\n",
      "jnthn/intellij-community: 3997\n",
      "tdiprima/code: 3716\n",
      "kkcookies99/UAST: 3662\n",
      "osoco/better-ways-of-thinking-about-software: 3107\n",
      "antopen/alipay-sdk-python-all: 3072\n",
      "usegalaxy-no/usegalaxy: 2800\n",
      "webdevhub42/Lambda: 2683\n",
      "kagemeka/atcoder-submissions: 2615\n",
      "jjhenkel/dockerizeme: 2509\n",
      "Amourspirit/ooo_uno_tmpl: 2482\n",
      "harshp8l/deep-learning-lang-detection: 2377\n",
      "ch1huizong/learning: 2207\n",
      "lukaszlaszuk/insightconnect-plugins: 2160\n",
      "enthought/etsproxy: 2150\n",
      "scottwedge/OpenStack-Stein: 2034\n",
      "google-cloud-sdk-unofficial/google-cloud-sdk: 2001\n",
      "prorevizor/noc: 1966\n",
      "the-zebulan/CodeWars: 1947\n",
      "balmasea/genieparser: 1932\n",
      "MrDelik/core: 1893\n"
     ]
    }
   ],
   "source": [
    "counts = Counter(dataset['max_stars_repo_name'])\n",
    "\n",
    "# Print in order\n",
    "for i, (name, count) in enumerate(counts.most_common()):\n",
    "    print(f'{name}: {count}')\n",
    "    if i > 20:\n",
    "        break"
   ]
  },
  {
   "cell_type": "code",
   "execution_count": 12,
   "metadata": {},
   "outputs": [
    {
     "data": {
      "text/plain": [
       "3.0"
      ]
     },
     "execution_count": 12,
     "metadata": {},
     "output_type": "execute_result"
    }
   ],
   "source": [
    "import numpy as np\n",
    "\n",
    "np.median(list(counts.values()))"
   ]
  },
  {
   "cell_type": "code",
   "execution_count": null,
   "metadata": {},
   "outputs": [],
   "source": [
    "class ProjectDataset(Dataset):\n",
    "  \"\"\"A Dataset organized by projects.\"\"\"\n",
    "\n",
    "  def __init__(\n",
    "    self,\n",
    "    arrow_table: Table,\n",
    "    info: Optional[DatasetInfo] = None,\n",
    "    split: Optional[NamedSplit] = None,\n",
    "    indices_table: Optional[Table] = None,\n",
    "    fingerprint: Optional[str] = None,\n",
    "  )"
   ]
  }
 ],
 "metadata": {
  "kernelspec": {
   "display_name": "base",
   "language": "python",
   "name": "python3"
  },
  "language_info": {
   "codemirror_mode": {
    "name": "ipython",
    "version": 3
   },
   "file_extension": ".py",
   "mimetype": "text/x-python",
   "name": "python",
   "nbconvert_exporter": "python",
   "pygments_lexer": "ipython3",
   "version": "3.9.16"
  }
 },
 "nbformat": 4,
 "nbformat_minor": 2
}
