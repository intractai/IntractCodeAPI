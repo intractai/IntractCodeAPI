{
 "cells": [
  {
   "cell_type": "code",
   "execution_count": null,
   "metadata": {},
   "outputs": [],
   "source": [
    "!python misc/train_supervised.py --model_name_or_path microsoft/CodeGPT-small-py --output output/ --data_path misc/test_dataset.json --use_cpu true --num_train_epochs 1 --report_to none"
   ]
  },
  {
   "cell_type": "code",
   "execution_count": null,
   "metadata": {},
   "outputs": [],
   "source": []
  }
 ],
 "metadata": {
  "language_info": {
   "name": "python"
  }
 },
 "nbformat": 4,
 "nbformat_minor": 2
}
